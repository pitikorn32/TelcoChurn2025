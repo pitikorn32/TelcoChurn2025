{
 "cells": [
  {
   "cell_type": "code",
   "execution_count": 1,
   "id": "32945c15",
   "metadata": {},
   "outputs": [],
   "source": [
    "# Import SparkSession\n",
    "from pyspark.sql import SparkSession\n",
    "\n",
    "# Create SparkSession \n",
    "spark = SparkSession.builder \\\n",
    "      .appName(\"task01\") \\\n",
    "      .getOrCreate()"
   ]
  },
  {
   "cell_type": "code",
   "execution_count": 6,
   "id": "f1bf1485",
   "metadata": {},
   "outputs": [
    {
     "name": "stdout",
     "output_type": "stream",
     "text": [
      "+--------+----------+----------+\n",
      "|Customer|  PaidDate|PaidAmount|\n",
      "+--------+----------+----------+\n",
      "|     Bob|2022-01-31|       100|\n",
      "|     Bob|2022-02-25|       140|\n",
      "|     Bob|2022-03-15|       120|\n",
      "|     Lee|2022-01-15|       150|\n",
      "|     Lee|2022-02-28|       135|\n",
      "|     Nok|2022-04-13|       200|\n",
      "+--------+----------+----------+\n",
      "\n"
     ]
    }
   ],
   "source": [
    "# Given a PySpark DataFrame named “Billing” as below:\n",
    "data = [\n",
    "    ('Bob', '2022-01-31', 100),\n",
    "    ('Bob', '2022-02-25', 140),\n",
    "    ('Bob', '2022-03-15', 120),\n",
    "    ('Lee', '2022-01-15', 150),\n",
    "    ('Lee', '2022-02-28', 135),\n",
    "    ('Nok', '2022-04-13', 200),\n",
    "]\n",
    "columns = [\"Customer\",\"PaidDate\", \"PaidAmount\"]\n",
    "\n",
    "# Create DataFrame\n",
    "df_billing = spark.createDataFrame(data=data, schema=columns)\n",
    "# Show DataFrame\n",
    "df_billing.show()"
   ]
  },
  {
   "cell_type": "code",
   "execution_count": 7,
   "id": "7aa380ed",
   "metadata": {},
   "outputs": [
    {
     "name": "stdout",
     "output_type": "stream",
     "text": [
      "+--------+----------+----------+\n",
      "|Customer|  PaidDate|PaidAmount|\n",
      "+--------+----------+----------+\n",
      "|     Nok|2022-05-31|       201|\n",
      "|     Bob|2022-03-25|       160|\n",
      "+--------+----------+----------+\n",
      "\n"
     ]
    }
   ],
   "source": [
    "# Given “ExtraBills” as below\n",
    "extra_data = [\n",
    "    ('Nok', '2022-05-31', 201),\n",
    "    ('Bob', '2022-03-25', 160),\n",
    "]\n",
    "\n",
    "df_extra_bills = spark.createDataFrame(data=extra_data, schema=columns)\n",
    "# Show DataFrame\n",
    "df_extra_bills.show()"
   ]
  },
  {
   "cell_type": "code",
   "execution_count": 8,
   "id": "0c461ca9",
   "metadata": {},
   "outputs": [
    {
     "name": "stdout",
     "output_type": "stream",
     "text": [
      "+--------+----------+----------+\n",
      "|Customer|  PaidDate|PaidAmount|\n",
      "+--------+----------+----------+\n",
      "|     Bob|2022-01-31|       100|\n",
      "|     Bob|2022-02-25|       140|\n",
      "|     Bob|2022-03-15|       120|\n",
      "|     Lee|2022-01-15|       150|\n",
      "|     Lee|2022-02-28|       135|\n",
      "|     Nok|2022-04-13|       200|\n",
      "|     Nok|2022-05-31|       201|\n",
      "|     Bob|2022-03-25|       160|\n",
      "+--------+----------+----------+\n",
      "\n"
     ]
    }
   ],
   "source": [
    "# Combine the two DataFrames\n",
    "df_combined = df_billing.union(df_extra_bills)\n",
    "# Show combined DataFrame\n",
    "df_combined.show()"
   ]
  },
  {
   "cell_type": "code",
   "execution_count": 12,
   "id": "123b483f",
   "metadata": {},
   "outputs": [
    {
     "name": "stdout",
     "output_type": "stream",
     "text": [
      "+--------+----------+----------+-----------+\n",
      "|Customer|  PaidDate|PaidAmount|DaysBetween|\n",
      "+--------+----------+----------+-----------+\n",
      "|     Bob|2022-01-31|       100|       NULL|\n",
      "|     Bob|2022-02-25|       140|         25|\n",
      "|     Bob|2022-03-15|       120|         18|\n",
      "|     Lee|2022-01-15|       150|       NULL|\n",
      "|     Lee|2022-02-28|       135|         44|\n",
      "|     Nok|2022-04-13|       200|       NULL|\n",
      "+--------+----------+----------+-----------+\n",
      "\n"
     ]
    }
   ],
   "source": [
    "from pyspark.sql import functions as F\n",
    "from pyspark.sql.window import Window\n",
    "\n",
    "# Convert PaidDate to date type if not already\n",
    "df_billing = df_billing.withColumn(\"PaidDate\", F.to_date(\"PaidDate\"))\n",
    "\n",
    "# Define window partitioned by Customer and ordered by PaidDate\n",
    "w = Window.partitionBy(\"Customer\").orderBy(\"PaidDate\")\n",
    "\n",
    "# Calculate the difference in days between consecutive PaidDate for each Customer\n",
    "df_billing_with_diff = df_billing.withColumn(\n",
    "    \"PrevPaidDate\", F.lag(\"PaidDate\").over(w)\n",
    ").withColumn(\n",
    "    \"DaysBetween\", F.datediff(\"PaidDate\", \"PrevPaidDate\")\n",
    ")\n",
    "\n",
    "# Remove the PrevPaidDate column if not needed\n",
    "df_billing_with_diff = df_billing_with_diff.drop(\"PrevPaidDate\")\n",
    "\n",
    "df_billing_with_diff.show()"
   ]
  }
 ],
 "metadata": {
  "kernelspec": {
   "display_name": "Python 3 (ipykernel)",
   "language": "python",
   "name": "python3"
  },
  "language_info": {
   "codemirror_mode": {
    "name": "ipython",
    "version": 3
   },
   "file_extension": ".py",
   "mimetype": "text/x-python",
   "name": "python",
   "nbconvert_exporter": "python",
   "pygments_lexer": "ipython3",
   "version": "3.11.6"
  }
 },
 "nbformat": 4,
 "nbformat_minor": 5
}
